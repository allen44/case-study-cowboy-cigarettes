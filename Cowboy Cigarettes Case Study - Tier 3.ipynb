{
  "nbformat": 4,
  "nbformat_minor": 0,
  "metadata": {
    "kernelspec": {
      "display_name": "Python 3",
      "language": "python",
      "name": "python3"
    },
    "language_info": {
      "codemirror_mode": {
        "name": "ipython",
        "version": 3
      },
      "file_extension": ".py",
      "mimetype": "text/x-python",
      "name": "python",
      "nbconvert_exporter": "python",
      "pygments_lexer": "ipython3",
      "version": "3.7.3"
    },
    "colab": {
      "name": "Cowboy Cigarettes Case Study - Tier 3.ipynb",
      "provenance": []
    }
  },
  "cells": [
    {
      "cell_type": "markdown",
      "metadata": {
        "id": "VTNmq-RZF789"
      },
      "source": [
        "# Springboard Time Series - 'Cowboy Cigarettes' Case Study - Tier 3"
      ]
    },
    {
      "cell_type": "markdown",
      "metadata": {
        "id": "a_-K2r3lF79E"
      },
      "source": [
        "## Brief\n",
        "\n",
        "You're working in the US federal government as a data scientist in the Health and Environment department. You've been tasked with determining whether sales for the oldest and most powerful producers of cigarettes in the country are increasing or declining. \n",
        "\n",
        "**Cowboy Cigarettes (TM, *est.* 1890)** is the US's longest-running cigarette manufacturer. Like many cigarette companies, however, they haven't always been that public about their sales and marketing data. The available post-war historical data runs for only 11 years after they resumed production in 1949; stopping in 1960 before resuming again in 1970. Your job is to use the 1949-1960 data to predict whether the manufacturer's cigarette sales actually increased, decreased, or stayed the same. You need to make a probable reconstruction of the sales record of the manufacturer - predicting the future, from the perspective of the past - to contribute to a full report on US public health in relation to major cigarette companies. \n",
        "\n",
        "The results of your analysis will be used as part of a major report relating public health and local economics, and will be combined with other studies executed by your colleagues to provide important government advice.  \n",
        "\n",
        "-------------------------------\n",
        "As ever, this notebook is **tiered**, meaning you can elect that tier that is right for your confidence and skill level. There are 3 tiers, with tier 1 being the easiest and tier 3 being the hardest.  \n",
        "\n",
        "**1. Sourcing and loading** \n",
        "- Load relevant libraries \n",
        "- Load the data\n",
        "- Explore the data\n",
        "\n",
        " \n",
        "**2. Cleaning, transforming and visualizing**\n",
        "- Dropping unwanted columns\n",
        "- Nomenclature\n",
        "- Type conversions\n",
        "- Making a predictor variable `y` \n",
        "- Getting summary statistics for `y`\n",
        "- Plotting `y`\n",
        "  \n",
        "  \n",
        "**3. Modelling** \n",
        "- Decomposition\n",
        "    - Trend\n",
        "    - Seasonality\n",
        "    - Noise\n",
        "- Testing for stationarity with KPSS\n",
        "- Making the data stationary\n",
        "- The ARIMA Model\n",
        "    - Make a function to find the MSE of a single ARIMA model\n",
        "    - Make a function to evaluate the different ARIMA models with different p, d, and q values\n",
        "- Visualize the results\n",
        "- Application: Forecasting\n",
        "\n",
        "**4. Evaluating and concluding** \n",
        "- What is our conclusion?\n",
        "- Next steps\n",
        "    "
      ]
    },
    {
      "cell_type": "markdown",
      "metadata": {
        "id": "czBiSppwF79G"
      },
      "source": [
        "## 0. Preliminaries \n",
        "\n",
        "Time series data is just any data displaying how a single variable changes over time. It comes as a collection of metrics typically taken at regular intervals. Common examples of time series data include weekly sales data and daily stock prices. You can also easily acquire time series data from [Google Trends](https://trends.google.com/trends/?geo=US), which shows you how popular certain search terms are, measured in number of Google searches. "
      ]
    },
    {
      "cell_type": "markdown",
      "metadata": {
        "id": "dE0no0eHF79H"
      },
      "source": [
        "## 1. Sourcing and Loading\n",
        "\n",
        "### 1a. Load relevant libraries "
      ]
    },
    {
      "cell_type": "code",
      "metadata": {
        "id": "_EkY0WtFF79H"
      },
      "source": [
        "import numpy as np\n",
        "import pandas as pd\n",
        "import matplotlib.pyplot as plt\n",
        "import statsmodels.api as sm"
      ],
      "execution_count": 155,
      "outputs": []
    },
    {
      "cell_type": "markdown",
      "metadata": {
        "id": "DpNTfwaAF79I"
      },
      "source": [
        "### 1b. Load the data\n",
        "Call the variable `cigData`. "
      ]
    },
    {
      "cell_type": "code",
      "metadata": {
        "id": "4KpHpRMHF79I"
      },
      "source": [
        "cigData = pd.read_csv('https://raw.githubusercontent.com/allen44/case-study-cowboy-cigarettes/main/CowboyCigsData.csv')"
      ],
      "execution_count": 156,
      "outputs": []
    },
    {
      "cell_type": "markdown",
      "metadata": {
        "id": "R_ENfHNHF79J"
      },
      "source": [
        "### 1c. Explore the data\n",
        "We now need to check whether the data conduces to a time series style analysis."
      ]
    },
    {
      "cell_type": "code",
      "metadata": {
        "scrolled": true,
        "colab": {
          "base_uri": "https://localhost:8080/",
          "height": 419
        },
        "id": "NsNmVZhHF79J",
        "outputId": "7b6480c3-139d-434b-bef5-c74df0f98d0d"
      },
      "source": [
        "cigData"
      ],
      "execution_count": 157,
      "outputs": [
        {
          "output_type": "execute_result",
          "data": {
            "text/html": [
              "<div>\n",
              "<style scoped>\n",
              "    .dataframe tbody tr th:only-of-type {\n",
              "        vertical-align: middle;\n",
              "    }\n",
              "\n",
              "    .dataframe tbody tr th {\n",
              "        vertical-align: top;\n",
              "    }\n",
              "\n",
              "    .dataframe thead th {\n",
              "        text-align: right;\n",
              "    }\n",
              "</style>\n",
              "<table border=\"1\" class=\"dataframe\">\n",
              "  <thead>\n",
              "    <tr style=\"text-align: right;\">\n",
              "      <th></th>\n",
              "      <th>Unnamed: 0</th>\n",
              "      <th>Time</th>\n",
              "      <th>#CigSales</th>\n",
              "    </tr>\n",
              "  </thead>\n",
              "  <tbody>\n",
              "    <tr>\n",
              "      <th>0</th>\n",
              "      <td>0</td>\n",
              "      <td>1949-01</td>\n",
              "      <td>1000112</td>\n",
              "    </tr>\n",
              "    <tr>\n",
              "      <th>1</th>\n",
              "      <td>1</td>\n",
              "      <td>1949-02</td>\n",
              "      <td>1000118</td>\n",
              "    </tr>\n",
              "    <tr>\n",
              "      <th>2</th>\n",
              "      <td>2</td>\n",
              "      <td>1949-03</td>\n",
              "      <td>1000132</td>\n",
              "    </tr>\n",
              "    <tr>\n",
              "      <th>3</th>\n",
              "      <td>3</td>\n",
              "      <td>1949-04</td>\n",
              "      <td>1000129</td>\n",
              "    </tr>\n",
              "    <tr>\n",
              "      <th>4</th>\n",
              "      <td>4</td>\n",
              "      <td>1949-05</td>\n",
              "      <td>1000121</td>\n",
              "    </tr>\n",
              "    <tr>\n",
              "      <th>...</th>\n",
              "      <td>...</td>\n",
              "      <td>...</td>\n",
              "      <td>...</td>\n",
              "    </tr>\n",
              "    <tr>\n",
              "      <th>139</th>\n",
              "      <td>139</td>\n",
              "      <td>1960-08</td>\n",
              "      <td>1000606</td>\n",
              "    </tr>\n",
              "    <tr>\n",
              "      <th>140</th>\n",
              "      <td>140</td>\n",
              "      <td>1960-09</td>\n",
              "      <td>1000508</td>\n",
              "    </tr>\n",
              "    <tr>\n",
              "      <th>141</th>\n",
              "      <td>141</td>\n",
              "      <td>1960-10</td>\n",
              "      <td>1000461</td>\n",
              "    </tr>\n",
              "    <tr>\n",
              "      <th>142</th>\n",
              "      <td>142</td>\n",
              "      <td>1960-11</td>\n",
              "      <td>1000390</td>\n",
              "    </tr>\n",
              "    <tr>\n",
              "      <th>143</th>\n",
              "      <td>143</td>\n",
              "      <td>1960-12</td>\n",
              "      <td>1000432</td>\n",
              "    </tr>\n",
              "  </tbody>\n",
              "</table>\n",
              "<p>144 rows × 3 columns</p>\n",
              "</div>"
            ],
            "text/plain": [
              "     Unnamed: 0     Time  #CigSales\n",
              "0             0  1949-01    1000112\n",
              "1             1  1949-02    1000118\n",
              "2             2  1949-03    1000132\n",
              "3             3  1949-04    1000129\n",
              "4             4  1949-05    1000121\n",
              "..          ...      ...        ...\n",
              "139         139  1960-08    1000606\n",
              "140         140  1960-09    1000508\n",
              "141         141  1960-10    1000461\n",
              "142         142  1960-11    1000390\n",
              "143         143  1960-12    1000432\n",
              "\n",
              "[144 rows x 3 columns]"
            ]
          },
          "metadata": {
            "tags": []
          },
          "execution_count": 157
        }
      ]
    },
    {
      "cell_type": "markdown",
      "metadata": {
        "id": "4QLr3ZsrF79J"
      },
      "source": [
        "Over a million cigarettes sold in the month of January 1949. This certainly is a popular cigarette brand. "
      ]
    },
    {
      "cell_type": "markdown",
      "metadata": {
        "id": "6jgeOMZDF79K"
      },
      "source": [
        "Check out the columns feature of the data. How many columns are there? "
      ]
    },
    {
      "cell_type": "code",
      "metadata": {
        "colab": {
          "base_uri": "https://localhost:8080/"
        },
        "id": "6TkiQrkMF79K",
        "outputId": "304b4bc2-776e-4ccc-85fd-206bc8a03e92"
      },
      "source": [
        "cigData.columns"
      ],
      "execution_count": 158,
      "outputs": [
        {
          "output_type": "execute_result",
          "data": {
            "text/plain": [
              "Index(['Unnamed: 0', 'Time', '#CigSales'], dtype='object')"
            ]
          },
          "metadata": {
            "tags": []
          },
          "execution_count": 158
        }
      ]
    },
    {
      "cell_type": "markdown",
      "metadata": {
        "id": "_67xMt1MHQug"
      },
      "source": [
        ">There are three columns. Only 'Time' and '#CigSales' appear to be useful features.\n",
        "\n",
        "---\n",
        "\n"
      ]
    },
    {
      "cell_type": "markdown",
      "metadata": {
        "id": "bxMceQmaF79K"
      },
      "source": [
        "Let's check out the data types of our columns."
      ]
    },
    {
      "cell_type": "code",
      "metadata": {
        "scrolled": false,
        "colab": {
          "base_uri": "https://localhost:8080/"
        },
        "id": "EQKKVyG0F79L",
        "outputId": "24f60d9a-c882-4767-a3b5-34a72a6b4832"
      },
      "source": [
        "cigData.dtypes"
      ],
      "execution_count": 159,
      "outputs": [
        {
          "output_type": "execute_result",
          "data": {
            "text/plain": [
              "Unnamed: 0     int64\n",
              "Time          object\n",
              "#CigSales      int64\n",
              "dtype: object"
            ]
          },
          "metadata": {
            "tags": []
          },
          "execution_count": 159
        }
      ]
    },
    {
      "cell_type": "markdown",
      "metadata": {
        "id": "YH_mx15fF79L"
      },
      "source": [
        "Check whether there are any null values. "
      ]
    },
    {
      "cell_type": "code",
      "metadata": {
        "colab": {
          "base_uri": "https://localhost:8080/"
        },
        "id": "P_1UXVhZF79L",
        "outputId": "558edf66-3ae3-47fe-8cea-f32f0ed61ea2"
      },
      "source": [
        "cigData.isna().sum()"
      ],
      "execution_count": 160,
      "outputs": [
        {
          "output_type": "execute_result",
          "data": {
            "text/plain": [
              "Unnamed: 0    0\n",
              "Time          0\n",
              "#CigSales     0\n",
              "dtype: int64"
            ]
          },
          "metadata": {
            "tags": []
          },
          "execution_count": 160
        }
      ]
    },
    {
      "cell_type": "markdown",
      "metadata": {
        "id": "x8TQFQLMHnfI"
      },
      "source": [
        ">There are no missing values"
      ]
    },
    {
      "cell_type": "markdown",
      "metadata": {
        "id": "FPAc45E1F79L"
      },
      "source": [
        "## 2. Cleaning, transforming and visualizing"
      ]
    },
    {
      "cell_type": "markdown",
      "metadata": {
        "id": "pnqaBWhOF79L"
      },
      "source": [
        "### 2a. Dropping unwanted columns\n",
        "We need to cut that `Unnamed: 0` column. Delete it here."
      ]
    },
    {
      "cell_type": "code",
      "metadata": {
        "colab": {
          "base_uri": "https://localhost:8080/",
          "height": 419
        },
        "id": "3dgtcoafF79M",
        "outputId": "c37676aa-0164-44d5-db9a-78e3c0a6809f"
      },
      "source": [
        "cigData = cigData[['Time', '#CigSales']]\n",
        "cigData"
      ],
      "execution_count": 161,
      "outputs": [
        {
          "output_type": "execute_result",
          "data": {
            "text/html": [
              "<div>\n",
              "<style scoped>\n",
              "    .dataframe tbody tr th:only-of-type {\n",
              "        vertical-align: middle;\n",
              "    }\n",
              "\n",
              "    .dataframe tbody tr th {\n",
              "        vertical-align: top;\n",
              "    }\n",
              "\n",
              "    .dataframe thead th {\n",
              "        text-align: right;\n",
              "    }\n",
              "</style>\n",
              "<table border=\"1\" class=\"dataframe\">\n",
              "  <thead>\n",
              "    <tr style=\"text-align: right;\">\n",
              "      <th></th>\n",
              "      <th>Time</th>\n",
              "      <th>#CigSales</th>\n",
              "    </tr>\n",
              "  </thead>\n",
              "  <tbody>\n",
              "    <tr>\n",
              "      <th>0</th>\n",
              "      <td>1949-01</td>\n",
              "      <td>1000112</td>\n",
              "    </tr>\n",
              "    <tr>\n",
              "      <th>1</th>\n",
              "      <td>1949-02</td>\n",
              "      <td>1000118</td>\n",
              "    </tr>\n",
              "    <tr>\n",
              "      <th>2</th>\n",
              "      <td>1949-03</td>\n",
              "      <td>1000132</td>\n",
              "    </tr>\n",
              "    <tr>\n",
              "      <th>3</th>\n",
              "      <td>1949-04</td>\n",
              "      <td>1000129</td>\n",
              "    </tr>\n",
              "    <tr>\n",
              "      <th>4</th>\n",
              "      <td>1949-05</td>\n",
              "      <td>1000121</td>\n",
              "    </tr>\n",
              "    <tr>\n",
              "      <th>...</th>\n",
              "      <td>...</td>\n",
              "      <td>...</td>\n",
              "    </tr>\n",
              "    <tr>\n",
              "      <th>139</th>\n",
              "      <td>1960-08</td>\n",
              "      <td>1000606</td>\n",
              "    </tr>\n",
              "    <tr>\n",
              "      <th>140</th>\n",
              "      <td>1960-09</td>\n",
              "      <td>1000508</td>\n",
              "    </tr>\n",
              "    <tr>\n",
              "      <th>141</th>\n",
              "      <td>1960-10</td>\n",
              "      <td>1000461</td>\n",
              "    </tr>\n",
              "    <tr>\n",
              "      <th>142</th>\n",
              "      <td>1960-11</td>\n",
              "      <td>1000390</td>\n",
              "    </tr>\n",
              "    <tr>\n",
              "      <th>143</th>\n",
              "      <td>1960-12</td>\n",
              "      <td>1000432</td>\n",
              "    </tr>\n",
              "  </tbody>\n",
              "</table>\n",
              "<p>144 rows × 2 columns</p>\n",
              "</div>"
            ],
            "text/plain": [
              "        Time  #CigSales\n",
              "0    1949-01    1000112\n",
              "1    1949-02    1000118\n",
              "2    1949-03    1000132\n",
              "3    1949-04    1000129\n",
              "4    1949-05    1000121\n",
              "..       ...        ...\n",
              "139  1960-08    1000606\n",
              "140  1960-09    1000508\n",
              "141  1960-10    1000461\n",
              "142  1960-11    1000390\n",
              "143  1960-12    1000432\n",
              "\n",
              "[144 rows x 2 columns]"
            ]
          },
          "metadata": {
            "tags": []
          },
          "execution_count": 161
        }
      ]
    },
    {
      "cell_type": "markdown",
      "metadata": {
        "id": "F_D9CfQ8F79M"
      },
      "source": [
        "### 2b. Nomenclature"
      ]
    },
    {
      "cell_type": "markdown",
      "metadata": {
        "id": "XS9qVjcWF79M"
      },
      "source": [
        "We can see that the `Time` column actually has the granularity of months. Change the name of that column to `Month`."
      ]
    },
    {
      "cell_type": "code",
      "metadata": {
        "id": "k1YX0OH1F79M"
      },
      "source": [
        "cigData = cigData.rename(columns={'Time': 'Month'})"
      ],
      "execution_count": 162,
      "outputs": []
    },
    {
      "cell_type": "markdown",
      "metadata": {
        "id": "4Yz_MmjfF79M"
      },
      "source": [
        "Call a head() to check this has worked. "
      ]
    },
    {
      "cell_type": "code",
      "metadata": {
        "colab": {
          "base_uri": "https://localhost:8080/",
          "height": 204
        },
        "id": "UrDcE1JnF79N",
        "outputId": "01790997-2452-406b-8263-9606ef63bc20"
      },
      "source": [
        "cigData.head()"
      ],
      "execution_count": 163,
      "outputs": [
        {
          "output_type": "execute_result",
          "data": {
            "text/html": [
              "<div>\n",
              "<style scoped>\n",
              "    .dataframe tbody tr th:only-of-type {\n",
              "        vertical-align: middle;\n",
              "    }\n",
              "\n",
              "    .dataframe tbody tr th {\n",
              "        vertical-align: top;\n",
              "    }\n",
              "\n",
              "    .dataframe thead th {\n",
              "        text-align: right;\n",
              "    }\n",
              "</style>\n",
              "<table border=\"1\" class=\"dataframe\">\n",
              "  <thead>\n",
              "    <tr style=\"text-align: right;\">\n",
              "      <th></th>\n",
              "      <th>Month</th>\n",
              "      <th>#CigSales</th>\n",
              "    </tr>\n",
              "  </thead>\n",
              "  <tbody>\n",
              "    <tr>\n",
              "      <th>0</th>\n",
              "      <td>1949-01</td>\n",
              "      <td>1000112</td>\n",
              "    </tr>\n",
              "    <tr>\n",
              "      <th>1</th>\n",
              "      <td>1949-02</td>\n",
              "      <td>1000118</td>\n",
              "    </tr>\n",
              "    <tr>\n",
              "      <th>2</th>\n",
              "      <td>1949-03</td>\n",
              "      <td>1000132</td>\n",
              "    </tr>\n",
              "    <tr>\n",
              "      <th>3</th>\n",
              "      <td>1949-04</td>\n",
              "      <td>1000129</td>\n",
              "    </tr>\n",
              "    <tr>\n",
              "      <th>4</th>\n",
              "      <td>1949-05</td>\n",
              "      <td>1000121</td>\n",
              "    </tr>\n",
              "  </tbody>\n",
              "</table>\n",
              "</div>"
            ],
            "text/plain": [
              "     Month  #CigSales\n",
              "0  1949-01    1000112\n",
              "1  1949-02    1000118\n",
              "2  1949-03    1000132\n",
              "3  1949-04    1000129\n",
              "4  1949-05    1000121"
            ]
          },
          "metadata": {
            "tags": []
          },
          "execution_count": 163
        }
      ]
    },
    {
      "cell_type": "markdown",
      "metadata": {
        "id": "AlMVLWOwF79N"
      },
      "source": [
        "### 2c. Type conversions "
      ]
    },
    {
      "cell_type": "markdown",
      "metadata": {
        "id": "gbG5l-AiF79N"
      },
      "source": [
        "Now, do time series analysis on a Pandas dataframe is overkill, and is actually counter-productive. It's much more easy to carry out this type of analysis if we convert our data to a series first.\n",
        "\n",
        "Notice that the `Month` field was an object. Let's type convert the `Month` column to a Python `datetime`, before making that the index."
      ]
    },
    {
      "cell_type": "code",
      "metadata": {
        "colab": {
          "base_uri": "https://localhost:8080/",
          "height": 450
        },
        "id": "fWQjGyPjF79N",
        "outputId": "dbfa6da9-01c6-4593-ca75-b011cd1f9ceb"
      },
      "source": [
        "cigData['Month'] = pd.to_datetime(cigData['Month'])\n",
        "cigData = cigData.set_index('Month', drop=True)\n",
        "cigData"
      ],
      "execution_count": 164,
      "outputs": [
        {
          "output_type": "execute_result",
          "data": {
            "text/html": [
              "<div>\n",
              "<style scoped>\n",
              "    .dataframe tbody tr th:only-of-type {\n",
              "        vertical-align: middle;\n",
              "    }\n",
              "\n",
              "    .dataframe tbody tr th {\n",
              "        vertical-align: top;\n",
              "    }\n",
              "\n",
              "    .dataframe thead th {\n",
              "        text-align: right;\n",
              "    }\n",
              "</style>\n",
              "<table border=\"1\" class=\"dataframe\">\n",
              "  <thead>\n",
              "    <tr style=\"text-align: right;\">\n",
              "      <th></th>\n",
              "      <th>#CigSales</th>\n",
              "    </tr>\n",
              "    <tr>\n",
              "      <th>Month</th>\n",
              "      <th></th>\n",
              "    </tr>\n",
              "  </thead>\n",
              "  <tbody>\n",
              "    <tr>\n",
              "      <th>1949-01-01</th>\n",
              "      <td>1000112</td>\n",
              "    </tr>\n",
              "    <tr>\n",
              "      <th>1949-02-01</th>\n",
              "      <td>1000118</td>\n",
              "    </tr>\n",
              "    <tr>\n",
              "      <th>1949-03-01</th>\n",
              "      <td>1000132</td>\n",
              "    </tr>\n",
              "    <tr>\n",
              "      <th>1949-04-01</th>\n",
              "      <td>1000129</td>\n",
              "    </tr>\n",
              "    <tr>\n",
              "      <th>1949-05-01</th>\n",
              "      <td>1000121</td>\n",
              "    </tr>\n",
              "    <tr>\n",
              "      <th>...</th>\n",
              "      <td>...</td>\n",
              "    </tr>\n",
              "    <tr>\n",
              "      <th>1960-08-01</th>\n",
              "      <td>1000606</td>\n",
              "    </tr>\n",
              "    <tr>\n",
              "      <th>1960-09-01</th>\n",
              "      <td>1000508</td>\n",
              "    </tr>\n",
              "    <tr>\n",
              "      <th>1960-10-01</th>\n",
              "      <td>1000461</td>\n",
              "    </tr>\n",
              "    <tr>\n",
              "      <th>1960-11-01</th>\n",
              "      <td>1000390</td>\n",
              "    </tr>\n",
              "    <tr>\n",
              "      <th>1960-12-01</th>\n",
              "      <td>1000432</td>\n",
              "    </tr>\n",
              "  </tbody>\n",
              "</table>\n",
              "<p>144 rows × 1 columns</p>\n",
              "</div>"
            ],
            "text/plain": [
              "            #CigSales\n",
              "Month                \n",
              "1949-01-01    1000112\n",
              "1949-02-01    1000118\n",
              "1949-03-01    1000132\n",
              "1949-04-01    1000129\n",
              "1949-05-01    1000121\n",
              "...               ...\n",
              "1960-08-01    1000606\n",
              "1960-09-01    1000508\n",
              "1960-10-01    1000461\n",
              "1960-11-01    1000390\n",
              "1960-12-01    1000432\n",
              "\n",
              "[144 rows x 1 columns]"
            ]
          },
          "metadata": {
            "tags": []
          },
          "execution_count": 164
        }
      ]
    },
    {
      "cell_type": "markdown",
      "metadata": {
        "id": "qNlyxvQeF79O"
      },
      "source": [
        "Perfect! "
      ]
    },
    {
      "cell_type": "markdown",
      "metadata": {
        "id": "5V965A81F79O"
      },
      "source": [
        "### 2d. Making a predictor variable `y`"
      ]
    },
    {
      "cell_type": "markdown",
      "metadata": {
        "id": "wrLSaFzqF79O"
      },
      "source": [
        "The data is now indexed by date, as time series data ought to be.\n",
        "\n",
        "Since we want to predict the number of cigarette sales at Cowboy cigarettes, and `y` is typically used to signify a predictor variable, let's create a new variable called `y` and assign the indexed #Passenger column. "
      ]
    },
    {
      "cell_type": "code",
      "metadata": {
        "colab": {
          "base_uri": "https://localhost:8080/"
        },
        "id": "kfMmPPnxF79O",
        "outputId": "e954e3b0-c07e-4984-e1b6-99933c650d4d"
      },
      "source": [
        "y = cigData['#CigSales']\n",
        "y"
      ],
      "execution_count": 165,
      "outputs": [
        {
          "output_type": "execute_result",
          "data": {
            "text/plain": [
              "Month\n",
              "1949-01-01    1000112\n",
              "1949-02-01    1000118\n",
              "1949-03-01    1000132\n",
              "1949-04-01    1000129\n",
              "1949-05-01    1000121\n",
              "               ...   \n",
              "1960-08-01    1000606\n",
              "1960-09-01    1000508\n",
              "1960-10-01    1000461\n",
              "1960-11-01    1000390\n",
              "1960-12-01    1000432\n",
              "Name: #CigSales, Length: 144, dtype: int64"
            ]
          },
          "metadata": {
            "tags": []
          },
          "execution_count": 165
        }
      ]
    },
    {
      "cell_type": "markdown",
      "metadata": {
        "id": "rGDpzwarF79O"
      },
      "source": [
        "Check the type of our new variable. "
      ]
    },
    {
      "cell_type": "code",
      "metadata": {
        "scrolled": true,
        "colab": {
          "base_uri": "https://localhost:8080/"
        },
        "id": "E7Q5VKcAF79O",
        "outputId": "eea05030-1336-46d8-d664-da055626ecc2"
      },
      "source": [
        "y.dtype"
      ],
      "execution_count": 166,
      "outputs": [
        {
          "output_type": "execute_result",
          "data": {
            "text/plain": [
              "dtype('int64')"
            ]
          },
          "metadata": {
            "tags": []
          },
          "execution_count": 166
        }
      ]
    },
    {
      "cell_type": "markdown",
      "metadata": {
        "id": "JJ5RKgMpF79P"
      },
      "source": [
        "### 2e. Getting summary statistics for `y`"
      ]
    },
    {
      "cell_type": "markdown",
      "metadata": {
        "id": "XnzXsvqmF79P"
      },
      "source": [
        "Get the summary statistics of our data here. "
      ]
    },
    {
      "cell_type": "code",
      "metadata": {
        "scrolled": true,
        "colab": {
          "base_uri": "https://localhost:8080/"
        },
        "id": "Cs-pRTDOF79P",
        "outputId": "7b801891-bff9-4bf5-c2cc-ea86bdefdb3f"
      },
      "source": [
        "y.describe()"
      ],
      "execution_count": 167,
      "outputs": [
        {
          "output_type": "execute_result",
          "data": {
            "text/plain": [
              "count    1.440000e+02\n",
              "mean     1.000280e+06\n",
              "std      1.199663e+02\n",
              "min      1.000104e+06\n",
              "25%      1.000180e+06\n",
              "50%      1.000266e+06\n",
              "75%      1.000360e+06\n",
              "max      1.000622e+06\n",
              "Name: #CigSales, dtype: float64"
            ]
          },
          "metadata": {
            "tags": []
          },
          "execution_count": 167
        }
      ]
    },
    {
      "cell_type": "markdown",
      "metadata": {
        "id": "u60OGq5XF79P"
      },
      "source": [
        "Try visualizing the data. A simple `matplotlib` plot should do the trick.  "
      ]
    },
    {
      "cell_type": "markdown",
      "metadata": {
        "id": "UpOWzzfWF79P"
      },
      "source": [
        "### 2f. Plotting `y`"
      ]
    },
    {
      "cell_type": "code",
      "metadata": {
        "colab": {
          "base_uri": "https://localhost:8080/",
          "height": 307
        },
        "id": "OxhvhjhLF79P",
        "outputId": "1b71b0ae-4d72-4c2e-a3a8-d3b473e1b479"
      },
      "source": [
        "y.plot()"
      ],
      "execution_count": 168,
      "outputs": [
        {
          "output_type": "execute_result",
          "data": {
            "text/plain": [
              "<matplotlib.axes._subplots.AxesSubplot at 0x7f17695f09d0>"
            ]
          },
          "metadata": {
            "tags": []
          },
          "execution_count": 168
        },
        {
          "output_type": "display_data",
          "data": {
            "image/png": "[encoded data removed]",
            "text/plain": [
              "<Figure size 432x288 with 1 Axes>"
            ]
          },
          "metadata": {
            "tags": [],
            "needs_background": "light"
          }
        }
      ]
    },
    {
      "cell_type": "markdown",
      "metadata": {
        "id": "wxZUQnglF79Q"
      },
      "source": [
        "## 3. Modelling \n",
        "### 3a. Decomposition\n",
        "What do you notice from the plot? Take at least `2` minutes to examine the plot, and write down everything you observe.  \n",
        "\n",
        "All done?\n",
        "\n",
        "We can see that, generally, there is a trend upwards in cigarette sales from at Cowboy Cigarettes. But there are also some striking - and perhaps unexpected - seasonal fluctuations. These seasonal fluctations come in a repeated pattern. Work out when these seasonal fluctuations are happening, and take 2 minutes to hypothesize on their cause here.\n",
        "\n",
        "What does it mean to *decompose* time series data? It means breaking that data into 3 components: \n",
        "\n",
        "1. **Trend**: The overall direction that the data is travelling in (like upwards or downwards)\n",
        "2. **Seasonality**: Cyclical patterns in the data \n",
        "3. **Noise**: The random variation in the data\n",
        "\n",
        "We can treat these components differently, depending on the question and what's appropriate in the context. They can either be added together in an *additive* model, or multiplied together in a *multiplicative* model. \n",
        "\n",
        "Make a coffee, take `5` minutes and read [this article](https://medium.com/@sigmundojr/seasonality-in-python-additive-or-multiplicative-model-d4b9cf1f48a7) and think about whether our data would conduce to an additive or multiplicative model here. Write your conclusion down just here: \n",
        "\n",
        "-------------------------------"
      ]
    },
    {
      "cell_type": "markdown",
      "metadata": {
        "id": "YSKzwuw4F79Q"
      },
      "source": [
        "All done? Well, just on the basis of the plot above, it seems our Cowboy Cigarettes data is actually multiplicative. \n",
        "\n",
        "That's because, as time progresses, the general trend seems to be increasing *at a rate that's also increasing*. We also see that the seasonal fluctuations (the peaks and troughs) get bigger and bigger as time progresses.\n",
        "\n",
        "Now on the other hand, if the data were simply additive, we could expect the general trend to increase at a *steadily*, and a constant speed; and also for seasonal ups and downs not to increase or decrease in extent over time.\n",
        "\n",
        "Happily, we can use the `decompose()` function to quantify the component parts described above in our data."
      ]
    },
    {
      "cell_type": "code",
      "metadata": {
        "scrolled": true,
        "colab": {
          "base_uri": "https://localhost:8080/",
          "height": 577
        },
        "id": "CKOCahXdF79R",
        "outputId": "09b73429-448e-4f70-fd99-461a0ab660b5"
      },
      "source": [
        "decomposition = sm.tsa.seasonal_decompose(y, model='multiplicative')\n",
        "decomposition.plot()\n",
        "\n",
        "# Plot the original data, the trend, the seasonality, and the residuals "
      ],
      "execution_count": 169,
      "outputs": [
        {
          "output_type": "execute_result",
          "data": {
            "image/png": "[encoded data removed]",
            "text/plain": [
              "<Figure size 432x288 with 4 Axes>"
            ]
          },
          "metadata": {
            "tags": []
          },
          "execution_count": 169
        },
        {
          "output_type": "display_data",
          "data": {
            "image/png": "[encoded data removed]",
            "text/plain": [
              "<Figure size 432x288 with 4 Axes>"
            ]
          },
          "metadata": {
            "tags": [],
            "needs_background": "light"
          }
        }
      ]
    },
    {
      "cell_type": "markdown",
      "metadata": {
        "id": "xx55zUHkF79R"
      },
      "source": [
        "### 3b. Testing for stationarity with KPSS\n",
        "As you know, when doing time series analysis we always have to check for stationarity. Imprecisely, a time series dataset is stationary just if its statistical features don't change over time. A little more precisely, a stationary time series dataset will have constant mean, variance, and covariance.\n",
        "\n",
        "There are many ways to test for stationarity, but one of the most common is the KPSS test. The Null hypothesis of this test is that the time series data in question is stationary; hence, if the *p*-value is less than the significance level (typically 0.05, but we decide) then we reject the Null and infer that the data is not stationary."
      ]
    },
    {
      "cell_type": "code",
      "metadata": {
        "scrolled": true,
        "colab": {
          "base_uri": "https://localhost:8080/"
        },
        "id": "iePjYTfDF79R",
        "outputId": "84bee5f7-abc9-4b79-e087-d234824c14df"
      },
      "source": [
        "from statsmodels.tsa.stattools import kpss\n",
        "kpss(y)"
      ],
      "execution_count": 170,
      "outputs": [
        {
          "output_type": "stream",
          "text": [
            "/usr/local/lib/python3.7/dist-packages/statsmodels/tsa/stattools.py:1685: FutureWarning: The behavior of using lags=None will change in the next release. Currently lags=None is the same as lags='legacy', and so a sample-size lag length is used. After the next release, the default will change to be the same as lags='auto' which uses an automatic lag length selection method. To silence this warning, either use 'auto' or 'legacy'\n",
            "  warn(msg, FutureWarning)\n",
            "/usr/local/lib/python3.7/dist-packages/statsmodels/tsa/stattools.py:1709: InterpolationWarning: p-value is smaller than the indicated p-value\n",
            "  warn(\"p-value is smaller than the indicated p-value\", InterpolationWarning)\n"
          ],
          "name": "stderr"
        },
        {
          "output_type": "execute_result",
          "data": {
            "text/plain": [
              "(1.0521750110138661,\n",
              " 0.01,\n",
              " 14,\n",
              " {'1%': 0.739, '10%': 0.347, '2.5%': 0.574, '5%': 0.463})"
            ]
          },
          "metadata": {
            "tags": []
          },
          "execution_count": 170
        }
      ]
    },
    {
      "cell_type": "markdown",
      "metadata": {
        "id": "1lRYG4tpF79S"
      },
      "source": [
        "Since our p-value is less than 0.05, we should reject the Null hypothesis and deduce the non-stationarity of our data. \n",
        "\n",
        "But our data need to be stationary! So we need to do some transforming."
      ]
    },
    {
      "cell_type": "markdown",
      "metadata": {
        "id": "GGoz5z1DF79S"
      },
      "source": [
        "### 3c. Making the data stationary \n",
        "Let's recall what it looks like. "
      ]
    },
    {
      "cell_type": "code",
      "metadata": {
        "colab": {
          "base_uri": "https://localhost:8080/",
          "height": 307
        },
        "id": "PZUHLIHvF79S",
        "outputId": "ebbca695-df97-483a-81f4-024625ea742f"
      },
      "source": [
        "y.plot()"
      ],
      "execution_count": 171,
      "outputs": [
        {
          "output_type": "execute_result",
          "data": {
            "text/plain": [
              "<matplotlib.axes._subplots.AxesSubplot at 0x7f1765f34cd0>"
            ]
          },
          "metadata": {
            "tags": []
          },
          "execution_count": 171
        },
        {
          "output_type": "display_data",
          "data": {
            "image/png": "[encoded data removed]",
            "text/plain": [
              "<Figure size 432x288 with 1 Axes>"
            ]
          },
          "metadata": {
            "tags": [],
            "needs_background": "light"
          }
        }
      ]
    },
    {
      "cell_type": "markdown",
      "metadata": {
        "id": "HwksZQfZF79S"
      },
      "source": [
        "In our plot, we can see that both the mean and the variance *increase as time progresses*. At the moment, our data has neither a constant mean, nor a constant variance (the covariance, however, seems constant). \n",
        "\n",
        "One ofte  used way of getting rid of changing variance is to take the natural log of all the values in our dataset. Let's do this now. "
      ]
    },
    {
      "cell_type": "code",
      "metadata": {
        "id": "CLWMxD8ZF79S"
      },
      "source": [
        "# Reduce chaging variance by taking natural log\n",
        "y_const_var = np.log(y)"
      ],
      "execution_count": 172,
      "outputs": []
    },
    {
      "cell_type": "markdown",
      "metadata": {
        "id": "9-Fl8oMBF79T"
      },
      "source": [
        "\n",
        "When you plot this, you can see how the variance in our data now remains contant over time."
      ]
    },
    {
      "cell_type": "code",
      "metadata": {
        "scrolled": true,
        "colab": {
          "base_uri": "https://localhost:8080/",
          "height": 307
        },
        "id": "ZaxRnosMF79T",
        "outputId": "6653cfeb-6ca8-42b5-f15f-e89f3207fa4a"
      },
      "source": [
        "y_const_var.plot()"
      ],
      "execution_count": 173,
      "outputs": [
        {
          "output_type": "execute_result",
          "data": {
            "text/plain": [
              "<matplotlib.axes._subplots.AxesSubplot at 0x7f1765ead210>"
            ]
          },
          "metadata": {
            "tags": []
          },
          "execution_count": 173
        },
        {
          "output_type": "display_data",
          "data": {
            "image/png": "[encoded data removed]",
            "text/plain": [
              "<Figure size 432x288 with 1 Axes>"
            ]
          },
          "metadata": {
            "tags": [],
            "needs_background": "light"
          }
        }
      ]
    },
    {
      "cell_type": "code",
      "metadata": {
        "colab": {
          "base_uri": "https://localhost:8080/"
        },
        "id": "NwKG9DvWNbGi",
        "outputId": "e471f0c6-4ea1-4cfb-b35b-4b3014407814"
      },
      "source": [
        "kpss(y_const_var)"
      ],
      "execution_count": 174,
      "outputs": [
        {
          "output_type": "stream",
          "text": [
            "/usr/local/lib/python3.7/dist-packages/statsmodels/tsa/stattools.py:1685: FutureWarning: The behavior of using lags=None will change in the next release. Currently lags=None is the same as lags='legacy', and so a sample-size lag length is used. After the next release, the default will change to be the same as lags='auto' which uses an automatic lag length selection method. To silence this warning, either use 'auto' or 'legacy'\n",
            "  warn(msg, FutureWarning)\n",
            "/usr/local/lib/python3.7/dist-packages/statsmodels/tsa/stattools.py:1709: InterpolationWarning: p-value is smaller than the indicated p-value\n",
            "  warn(\"p-value is smaller than the indicated p-value\", InterpolationWarning)\n"
          ],
          "name": "stderr"
        },
        {
          "output_type": "execute_result",
          "data": {
            "text/plain": [
              "(1.0521822892904293,\n",
              " 0.01,\n",
              " 14,\n",
              " {'1%': 0.739, '10%': 0.347, '2.5%': 0.574, '5%': 0.463})"
            ]
          },
          "metadata": {
            "tags": []
          },
          "execution_count": 174
        }
      ]
    },
    {
      "cell_type": "markdown",
      "metadata": {
        "id": "4ktt7y0XF79T"
      },
      "source": [
        "We now have a constant variance, but we also need a constant mean.\n",
        "\n",
        "We can do this by *differencing* our data. We difference a time series dataset when we create a new time series comprising the difference between the values of our existing dataset.\n",
        "\n",
        "Python is powerful, and we can use the `diff()` function to do this. You'll notice there's one less value than our existing dataset (since we're taking the difference between the existing values)."
      ]
    },
    {
      "cell_type": "code",
      "metadata": {
        "scrolled": true,
        "id": "d4MzrWXIF79U"
      },
      "source": [
        "y_const_var_diff = y_const_var.diff().dropna()"
      ],
      "execution_count": 175,
      "outputs": []
    },
    {
      "cell_type": "code",
      "metadata": {
        "colab": {
          "base_uri": "https://localhost:8080/",
          "height": 296
        },
        "id": "taYUJAN1NLcS",
        "outputId": "5c1d0ad1-1cb1-47b9-d9a6-033af8ab4820"
      },
      "source": [
        "y_const_var_diff.plot()"
      ],
      "execution_count": 176,
      "outputs": [
        {
          "output_type": "execute_result",
          "data": {
            "text/plain": [
              "<matplotlib.axes._subplots.AxesSubplot at 0x7f1765ec6e90>"
            ]
          },
          "metadata": {
            "tags": []
          },
          "execution_count": 176
        },
        {
          "output_type": "display_data",
          "data": {
            "image/png": "[encoded data removed]",
            "text/plain": [
              "<Figure size 432x288 with 1 Axes>"
            ]
          },
          "metadata": {
            "tags": [],
            "needs_background": "light"
          }
        }
      ]
    },
    {
      "cell_type": "code",
      "metadata": {
        "colab": {
          "base_uri": "https://localhost:8080/"
        },
        "id": "odX5TTZ2NOX7",
        "outputId": "0fd013a6-7384-4d22-8f8d-e904f8783eb5"
      },
      "source": [
        "kpss(y_const_var_diff)"
      ],
      "execution_count": 177,
      "outputs": [
        {
          "output_type": "stream",
          "text": [
            "/usr/local/lib/python3.7/dist-packages/statsmodels/tsa/stattools.py:1685: FutureWarning: The behavior of using lags=None will change in the next release. Currently lags=None is the same as lags='legacy', and so a sample-size lag length is used. After the next release, the default will change to be the same as lags='auto' which uses an automatic lag length selection method. To silence this warning, either use 'auto' or 'legacy'\n",
            "  warn(msg, FutureWarning)\n",
            "/usr/local/lib/python3.7/dist-packages/statsmodels/tsa/stattools.py:1711: InterpolationWarning: p-value is greater than the indicated p-value\n",
            "  warn(\"p-value is greater than the indicated p-value\", InterpolationWarning)\n"
          ],
          "name": "stderr"
        },
        {
          "output_type": "execute_result",
          "data": {
            "text/plain": [
              "(0.05301079859857676,\n",
              " 0.1,\n",
              " 14,\n",
              " {'1%': 0.739, '10%': 0.347, '2.5%': 0.574, '5%': 0.463})"
            ]
          },
          "metadata": {
            "tags": []
          },
          "execution_count": 177
        }
      ]
    },
    {
      "cell_type": "markdown",
      "metadata": {
        "id": "UZk_2ffpF79U"
      },
      "source": [
        "Our p-value is now greater than 0.05, so we can accept the null hypothesis that our data is stationary."
      ]
    },
    {
      "cell_type": "markdown",
      "metadata": {
        "id": "ynXhtvb0F79U"
      },
      "source": [
        "### 3d. The ARIMA model\n",
        "\n",
        "Recall that ARIMA models are based around the idea that it's possible to predict the next value in a time series by using information about the most recent data points. It also assumes there will be some randomness in our data that can't ever be predicted.\n",
        "\n",
        "We can find some good parameters for our model using the `sklearn` and `statsmodels` libraries, and in particular `mean_squared_error` and `ARIMA`. "
      ]
    },
    {
      "cell_type": "code",
      "metadata": {
        "id": "cKCffXb2F79V"
      },
      "source": [
        "from sklearn.metrics import mean_squared_error\n",
        "from statsmodels.tsa.arima_model import ARIMA"
      ],
      "execution_count": 178,
      "outputs": []
    },
    {
      "cell_type": "markdown",
      "metadata": {
        "id": "qXBVm3HxF79W"
      },
      "source": [
        "#### 3di. Make a function to find the MSE of a single ARIMA model\n",
        "Things get intricate here. Don't worry if you can't do this yourself and need to drop down a Tier. "
      ]
    },
    {
      "cell_type": "code",
      "metadata": {
        "colab": {
          "base_uri": "https://localhost:8080/"
        },
        "id": "3_DcSGyLF79W",
        "outputId": "15000a9b-64b7-4100-d707-b2093408a15b"
      },
      "source": [
        "y_pred = ARIMA(y_const_var_diff, order=(0,0,0)).fit().predict()\n",
        "\n",
        "arima_mse = mean_squared_error(y_const_var_diff, \n",
        "                               y_pred)\n",
        "arima_mse"
      ],
      "execution_count": 179,
      "outputs": [
        {
          "output_type": "stream",
          "text": [
            "/usr/local/lib/python3.7/dist-packages/statsmodels/tsa/base/tsa_model.py:165: ValueWarning: No frequency information was provided, so inferred frequency MS will be used.\n",
            "  % freq, ValueWarning)\n"
          ],
          "name": "stderr"
        },
        {
          "output_type": "execute_result",
          "data": {
            "text/plain": [
              "1.1305034839236716e-09"
            ]
          },
          "metadata": {
            "tags": []
          },
          "execution_count": 179
        }
      ]
    },
    {
      "cell_type": "markdown",
      "metadata": {
        "id": "GlDrU4jaF79X"
      },
      "source": [
        "#### 3dii. Make a function to evaluate the different ARIMA models with different p, d, and q values"
      ]
    },
    {
      "cell_type": "code",
      "metadata": {
        "id": "CFwRdVlkVFUi"
      },
      "source": [
        "def eval_arima_mse(data, arima_order:tuple):\n",
        "  from sklearn.metrics import mean_squared_error\n",
        "  from statsmodels.tsa.arima_model import ARIMA\n",
        "  import warnings\n",
        "\n",
        "  # Needs to be an integer because it is later used as an index.\n",
        "  split=int(len(data) * 0.8) \n",
        "  # Make train and test variables, with 'train, test'\n",
        "  train, test = data[0:split], data[split:len(data)]\n",
        "  past = [x for x in train]\n",
        "  # make predictions. Declare a variable with that name\n",
        "  predictions = list()\n",
        "  for i in range(len(test)):#timestep-wise comparison between test data and one-step prediction ARIMA model. \n",
        "    with warnings.catch_warnings():\n",
        "      warnings.filterwarnings(\"ignore\")\n",
        "      model = ARIMA(past, order=arima_order)\n",
        "      model_fit = model.fit(disp=0)\n",
        "      future = model_fit.forecast()[0]\n",
        "      predictions.append(future)\n",
        "      past.append(test[i])\n",
        "  # calculate out of sample error\n",
        "  error = mean_squared_error(test, predictions)\n",
        "  # Return the error\n",
        "  return error"
      ],
      "execution_count": 180,
      "outputs": []
    },
    {
      "cell_type": "code",
      "metadata": {
        "colab": {
          "base_uri": "https://localhost:8080/"
        },
        "id": "kvyMLVIoF79Y",
        "outputId": "dbda4daf-ad1b-4f65-d9e1-09aeb52ec5bb"
      },
      "source": [
        "# Now, we choose a couple of values to try for each parameter.\n",
        "eval_arima_mse(y_const_var_diff, (0,0,0))"
      ],
      "execution_count": 181,
      "outputs": [
        {
          "output_type": "execute_result",
          "data": {
            "text/plain": [
              "2.7930902500317484e-09"
            ]
          },
          "metadata": {
            "tags": []
          },
          "execution_count": 181
        }
      ]
    },
    {
      "cell_type": "code",
      "metadata": {
        "scrolled": false,
        "id": "FcPXgXNSF79Y"
      },
      "source": [
        "# Finally, we can find the optimum ARIMA model for our data.\n",
        "# Make a function called evaluate_models to evaluate different ARIMA models with several different p, d, and q values.\n",
        "def evaluate_models(dataset, p_values, d_values, q_values):\n",
        "    best_score, best_cfg = float(\"inf\"), None\n",
        "    # Iterate through p_values\n",
        "    for p in p_values:\n",
        "        # Iterate through d_values\n",
        "        for d in d_values:\n",
        "            # Iterate through q_values\n",
        "            for q in q_values:\n",
        "                # p, d, q iterator variables in that order\n",
        "                order = (p, d, q)\n",
        "                try:\n",
        "                    # Make a variable called mse for the Mean squared error\n",
        "                    mse = eval_arima_mse(dataset, order)\n",
        "                    if mse < best_score:\n",
        "                        best_score, best_cfg = mse, order\n",
        "                    print(f'ARIMA order: {order}, MSE={mse}')\n",
        "                except ValueError:\n",
        "                    continue\n",
        "    return print(f'Best ARIMA: {best_cfg}, MSE={best_score}')"
      ],
      "execution_count": 182,
      "outputs": []
    },
    {
      "cell_type": "code",
      "metadata": {
        "id": "kOEqdwzcapUw"
      },
      "source": [
        "evaluate_models(y_const_var_diff, \n",
        "                p_values=[0,1,2,4], \n",
        "                d_values=[0,1,2,4], \n",
        "                q_values=[0,1,2,4])"
      ],
      "execution_count": null,
      "outputs": []
    },
    {
      "cell_type": "markdown",
      "metadata": {
        "id": "2AflRlwbF79a"
      },
      "source": [
        "So the best p,d, q, parameters for our ARIMA model are 2, 1, 1 respectively. Now we know this, we can build the model."
      ]
    },
    {
      "cell_type": "markdown",
      "metadata": {
        "id": "AUxQ_c5tF79a"
      },
      "source": [
        "We can take a look at a summary of the model this library has built around our data."
      ]
    },
    {
      "cell_type": "code",
      "metadata": {
        "colab": {
          "base_uri": "https://localhost:8080/"
        },
        "id": "eCSBF3VzgHjF",
        "outputId": "d9d72ed5-10d4-43a7-bb65-a80b15e2db8b"
      },
      "source": [
        "model = ARIMA(y_const_var_diff, order=(0,0,4))\n",
        "model_fit = model.fit()\n",
        "forecast = model_fit.forecast(110)"
      ],
      "execution_count": 232,
      "outputs": [
        {
          "output_type": "stream",
          "text": [
            "/usr/local/lib/python3.7/dist-packages/statsmodels/tsa/base/tsa_model.py:165: ValueWarning: No frequency information was provided, so inferred frequency MS will be used.\n",
            "  % freq, ValueWarning)\n",
            "/usr/local/lib/python3.7/dist-packages/statsmodels/base/model.py:492: HessianInversionWarning: Inverting hessian failed, no bse or cov_params available\n",
            "  'available', HessianInversionWarning)\n",
            "/usr/local/lib/python3.7/dist-packages/statsmodels/base/model.py:512: ConvergenceWarning: Maximum Likelihood optimization failed to converge. Check mle_retvals\n",
            "  \"Check mle_retvals\", ConvergenceWarning)\n"
          ],
          "name": "stderr"
        }
      ]
    },
    {
      "cell_type": "code",
      "metadata": {
        "colab": {
          "base_uri": "https://localhost:8080/"
        },
        "id": "0G99BBHUjIVp",
        "outputId": "712621a3-b9f4-469e-b57b-75699e27df81"
      },
      "source": [
        "forecast"
      ],
      "execution_count": 233,
      "outputs": [
        {
          "output_type": "execute_result",
          "data": {
            "text/plain": [
              "(array([ 5.40495516e-05,  5.25460206e-06,  2.24543013e-05, -1.61691241e-05,\n",
              "         2.63259842e-06,  2.63259842e-06,  2.63259842e-06,  2.63259842e-06,\n",
              "         2.63259842e-06,  2.63259842e-06,  2.63259842e-06,  2.63259842e-06,\n",
              "         2.63259842e-06,  2.63259842e-06,  2.63259842e-06,  2.63259842e-06,\n",
              "         2.63259842e-06,  2.63259842e-06,  2.63259842e-06,  2.63259842e-06,\n",
              "         2.63259842e-06,  2.63259842e-06,  2.63259842e-06,  2.63259842e-06,\n",
              "         2.63259842e-06,  2.63259842e-06,  2.63259842e-06,  2.63259842e-06,\n",
              "         2.63259842e-06,  2.63259842e-06,  2.63259842e-06,  2.63259842e-06,\n",
              "         2.63259842e-06,  2.63259842e-06,  2.63259842e-06,  2.63259842e-06,\n",
              "         2.63259842e-06,  2.63259842e-06,  2.63259842e-06,  2.63259842e-06,\n",
              "         2.63259842e-06,  2.63259842e-06,  2.63259842e-06,  2.63259842e-06,\n",
              "         2.63259842e-06,  2.63259842e-06,  2.63259842e-06,  2.63259842e-06,\n",
              "         2.63259842e-06,  2.63259842e-06,  2.63259842e-06,  2.63259842e-06,\n",
              "         2.63259842e-06,  2.63259842e-06,  2.63259842e-06,  2.63259842e-06,\n",
              "         2.63259842e-06,  2.63259842e-06,  2.63259842e-06,  2.63259842e-06,\n",
              "         2.63259842e-06,  2.63259842e-06,  2.63259842e-06,  2.63259842e-06,\n",
              "         2.63259842e-06,  2.63259842e-06,  2.63259842e-06,  2.63259842e-06,\n",
              "         2.63259842e-06,  2.63259842e-06,  2.63259842e-06,  2.63259842e-06,\n",
              "         2.63259842e-06,  2.63259842e-06,  2.63259842e-06,  2.63259842e-06,\n",
              "         2.63259842e-06,  2.63259842e-06,  2.63259842e-06,  2.63259842e-06,\n",
              "         2.63259842e-06,  2.63259842e-06,  2.63259842e-06,  2.63259842e-06,\n",
              "         2.63259842e-06,  2.63259842e-06,  2.63259842e-06,  2.63259842e-06,\n",
              "         2.63259842e-06,  2.63259842e-06,  2.63259842e-06,  2.63259842e-06,\n",
              "         2.63259842e-06,  2.63259842e-06,  2.63259842e-06,  2.63259842e-06,\n",
              "         2.63259842e-06,  2.63259842e-06,  2.63259842e-06,  2.63259842e-06,\n",
              "         2.63259842e-06,  2.63259842e-06,  2.63259842e-06,  2.63259842e-06,\n",
              "         2.63259842e-06,  2.63259842e-06,  2.63259842e-06,  2.63259842e-06,\n",
              "         2.63259842e-06,  2.63259842e-06]),\n",
              " array([2.78197572e-05, 2.99729121e-05, 3.04284426e-05, 3.15926220e-05,\n",
              "        3.40186139e-05, 3.40186139e-05, 3.40186139e-05, 3.40186139e-05,\n",
              "        3.40186139e-05, 3.40186139e-05, 3.40186139e-05, 3.40186139e-05,\n",
              "        3.40186139e-05, 3.40186139e-05, 3.40186139e-05, 3.40186139e-05,\n",
              "        3.40186139e-05, 3.40186139e-05, 3.40186139e-05, 3.40186139e-05,\n",
              "        3.40186139e-05, 3.40186139e-05, 3.40186139e-05, 3.40186139e-05,\n",
              "        3.40186139e-05, 3.40186139e-05, 3.40186139e-05, 3.40186139e-05,\n",
              "        3.40186139e-05, 3.40186139e-05, 3.40186139e-05, 3.40186139e-05,\n",
              "        3.40186139e-05, 3.40186139e-05, 3.40186139e-05, 3.40186139e-05,\n",
              "        3.40186139e-05, 3.40186139e-05, 3.40186139e-05, 3.40186139e-05,\n",
              "        3.40186139e-05, 3.40186139e-05, 3.40186139e-05, 3.40186139e-05,\n",
              "        3.40186139e-05, 3.40186139e-05, 3.40186139e-05, 3.40186139e-05,\n",
              "        3.40186139e-05, 3.40186139e-05, 3.40186139e-05, 3.40186139e-05,\n",
              "        3.40186139e-05, 3.40186139e-05, 3.40186139e-05, 3.40186139e-05,\n",
              "        3.40186139e-05, 3.40186139e-05, 3.40186139e-05, 3.40186139e-05,\n",
              "        3.40186139e-05, 3.40186139e-05, 3.40186139e-05, 3.40186139e-05,\n",
              "        3.40186139e-05, 3.40186139e-05, 3.40186139e-05, 3.40186139e-05,\n",
              "        3.40186139e-05, 3.40186139e-05, 3.40186139e-05, 3.40186139e-05,\n",
              "        3.40186139e-05, 3.40186139e-05, 3.40186139e-05, 3.40186139e-05,\n",
              "        3.40186139e-05, 3.40186139e-05, 3.40186139e-05, 3.40186139e-05,\n",
              "        3.40186139e-05, 3.40186139e-05, 3.40186139e-05, 3.40186139e-05,\n",
              "        3.40186139e-05, 3.40186139e-05, 3.40186139e-05, 3.40186139e-05,\n",
              "        3.40186139e-05, 3.40186139e-05, 3.40186139e-05, 3.40186139e-05,\n",
              "        3.40186139e-05, 3.40186139e-05, 3.40186139e-05, 3.40186139e-05,\n",
              "        3.40186139e-05, 3.40186139e-05, 3.40186139e-05, 3.40186139e-05,\n",
              "        3.40186139e-05, 3.40186139e-05, 3.40186139e-05, 3.40186139e-05,\n",
              "        3.40186139e-05, 3.40186139e-05, 3.40186139e-05, 3.40186139e-05,\n",
              "        3.40186139e-05, 3.40186139e-05]),\n",
              " array([[-4.76170638e-07,  1.08575274e-04],\n",
              "        [-5.34912261e-05,  6.40004303e-05],\n",
              "        [-3.71843503e-05,  8.20929528e-05],\n",
              "        [-7.80895255e-05,  4.57512773e-05],\n",
              "        [-6.40426597e-05,  6.93078565e-05],\n",
              "        [-6.40426597e-05,  6.93078565e-05],\n",
              "        [-6.40426597e-05,  6.93078565e-05],\n",
              "        [-6.40426597e-05,  6.93078565e-05],\n",
              "        [-6.40426597e-05,  6.93078565e-05],\n",
              "        [-6.40426597e-05,  6.93078565e-05],\n",
              "        [-6.40426597e-05,  6.93078565e-05],\n",
              "        [-6.40426597e-05,  6.93078565e-05],\n",
              "        [-6.40426597e-05,  6.93078565e-05],\n",
              "        [-6.40426597e-05,  6.93078565e-05],\n",
              "        [-6.40426597e-05,  6.93078565e-05],\n",
              "        [-6.40426597e-05,  6.93078565e-05],\n",
              "        [-6.40426597e-05,  6.93078565e-05],\n",
              "        [-6.40426597e-05,  6.93078565e-05],\n",
              "        [-6.40426597e-05,  6.93078565e-05],\n",
              "        [-6.40426597e-05,  6.93078565e-05],\n",
              "        [-6.40426597e-05,  6.93078565e-05],\n",
              "        [-6.40426597e-05,  6.93078565e-05],\n",
              "        [-6.40426597e-05,  6.93078565e-05],\n",
              "        [-6.40426597e-05,  6.93078565e-05],\n",
              "        [-6.40426597e-05,  6.93078565e-05],\n",
              "        [-6.40426597e-05,  6.93078565e-05],\n",
              "        [-6.40426597e-05,  6.93078565e-05],\n",
              "        [-6.40426597e-05,  6.93078565e-05],\n",
              "        [-6.40426597e-05,  6.93078565e-05],\n",
              "        [-6.40426597e-05,  6.93078565e-05],\n",
              "        [-6.40426597e-05,  6.93078565e-05],\n",
              "        [-6.40426597e-05,  6.93078565e-05],\n",
              "        [-6.40426597e-05,  6.93078565e-05],\n",
              "        [-6.40426597e-05,  6.93078565e-05],\n",
              "        [-6.40426597e-05,  6.93078565e-05],\n",
              "        [-6.40426597e-05,  6.93078565e-05],\n",
              "        [-6.40426597e-05,  6.93078565e-05],\n",
              "        [-6.40426597e-05,  6.93078565e-05],\n",
              "        [-6.40426597e-05,  6.93078565e-05],\n",
              "        [-6.40426597e-05,  6.93078565e-05],\n",
              "        [-6.40426597e-05,  6.93078565e-05],\n",
              "        [-6.40426597e-05,  6.93078565e-05],\n",
              "        [-6.40426597e-05,  6.93078565e-05],\n",
              "        [-6.40426597e-05,  6.93078565e-05],\n",
              "        [-6.40426597e-05,  6.93078565e-05],\n",
              "        [-6.40426597e-05,  6.93078565e-05],\n",
              "        [-6.40426597e-05,  6.93078565e-05],\n",
              "        [-6.40426597e-05,  6.93078565e-05],\n",
              "        [-6.40426597e-05,  6.93078565e-05],\n",
              "        [-6.40426597e-05,  6.93078565e-05],\n",
              "        [-6.40426597e-05,  6.93078565e-05],\n",
              "        [-6.40426597e-05,  6.93078565e-05],\n",
              "        [-6.40426597e-05,  6.93078565e-05],\n",
              "        [-6.40426597e-05,  6.93078565e-05],\n",
              "        [-6.40426597e-05,  6.93078565e-05],\n",
              "        [-6.40426597e-05,  6.93078565e-05],\n",
              "        [-6.40426597e-05,  6.93078565e-05],\n",
              "        [-6.40426597e-05,  6.93078565e-05],\n",
              "        [-6.40426597e-05,  6.93078565e-05],\n",
              "        [-6.40426597e-05,  6.93078565e-05],\n",
              "        [-6.40426597e-05,  6.93078565e-05],\n",
              "        [-6.40426597e-05,  6.93078565e-05],\n",
              "        [-6.40426597e-05,  6.93078565e-05],\n",
              "        [-6.40426597e-05,  6.93078565e-05],\n",
              "        [-6.40426597e-05,  6.93078565e-05],\n",
              "        [-6.40426597e-05,  6.93078565e-05],\n",
              "        [-6.40426597e-05,  6.93078565e-05],\n",
              "        [-6.40426597e-05,  6.93078565e-05],\n",
              "        [-6.40426597e-05,  6.93078565e-05],\n",
              "        [-6.40426597e-05,  6.93078565e-05],\n",
              "        [-6.40426597e-05,  6.93078565e-05],\n",
              "        [-6.40426597e-05,  6.93078565e-05],\n",
              "        [-6.40426597e-05,  6.93078565e-05],\n",
              "        [-6.40426597e-05,  6.93078565e-05],\n",
              "        [-6.40426597e-05,  6.93078565e-05],\n",
              "        [-6.40426597e-05,  6.93078565e-05],\n",
              "        [-6.40426597e-05,  6.93078565e-05],\n",
              "        [-6.40426597e-05,  6.93078565e-05],\n",
              "        [-6.40426597e-05,  6.93078565e-05],\n",
              "        [-6.40426597e-05,  6.93078565e-05],\n",
              "        [-6.40426597e-05,  6.93078565e-05],\n",
              "        [-6.40426597e-05,  6.93078565e-05],\n",
              "        [-6.40426597e-05,  6.93078565e-05],\n",
              "        [-6.40426597e-05,  6.93078565e-05],\n",
              "        [-6.40426597e-05,  6.93078565e-05],\n",
              "        [-6.40426597e-05,  6.93078565e-05],\n",
              "        [-6.40426597e-05,  6.93078565e-05],\n",
              "        [-6.40426597e-05,  6.93078565e-05],\n",
              "        [-6.40426597e-05,  6.93078565e-05],\n",
              "        [-6.40426597e-05,  6.93078565e-05],\n",
              "        [-6.40426597e-05,  6.93078565e-05],\n",
              "        [-6.40426597e-05,  6.93078565e-05],\n",
              "        [-6.40426597e-05,  6.93078565e-05],\n",
              "        [-6.40426597e-05,  6.93078565e-05],\n",
              "        [-6.40426597e-05,  6.93078565e-05],\n",
              "        [-6.40426597e-05,  6.93078565e-05],\n",
              "        [-6.40426597e-05,  6.93078565e-05],\n",
              "        [-6.40426597e-05,  6.93078565e-05],\n",
              "        [-6.40426597e-05,  6.93078565e-05],\n",
              "        [-6.40426597e-05,  6.93078565e-05],\n",
              "        [-6.40426597e-05,  6.93078565e-05],\n",
              "        [-6.40426597e-05,  6.93078565e-05],\n",
              "        [-6.40426597e-05,  6.93078565e-05],\n",
              "        [-6.40426597e-05,  6.93078565e-05],\n",
              "        [-6.40426597e-05,  6.93078565e-05],\n",
              "        [-6.40426597e-05,  6.93078565e-05],\n",
              "        [-6.40426597e-05,  6.93078565e-05],\n",
              "        [-6.40426597e-05,  6.93078565e-05],\n",
              "        [-6.40426597e-05,  6.93078565e-05],\n",
              "        [-6.40426597e-05,  6.93078565e-05]]))"
            ]
          },
          "metadata": {
            "tags": []
          },
          "execution_count": 233
        }
      ]
    },
    {
      "cell_type": "code",
      "metadata": {
        "colab": {
          "base_uri": "https://localhost:8080/",
          "height": 469
        },
        "id": "0UIO-5bChaD9",
        "outputId": "8647de97-3037-4fe5-9d82-d396d862402b"
      },
      "source": [
        "model_fit.summary()"
      ],
      "execution_count": 234,
      "outputs": [
        {
          "output_type": "stream",
          "text": [
            "/usr/local/lib/python3.7/dist-packages/statsmodels/tsa/arima_model.py:1441: RuntimeWarning: invalid value encountered in sqrt\n",
            "  return np.sqrt(np.diag(-inv(hess)))\n"
          ],
          "name": "stderr"
        },
        {
          "output_type": "execute_result",
          "data": {
            "text/html": [
              "<table class=\"simpletable\">\n",
              "<caption>ARMA Model Results</caption>\n",
              "<tr>\n",
              "  <th>Dep. Variable:</th>     <td>#CigSales</td>    <th>  No. Observations:  </th>    <td>143</td>   \n",
              "</tr>\n",
              "<tr>\n",
              "  <th>Model:</th>            <td>ARMA(0, 4)</td>    <th>  Log Likelihood     </th> <td>1296.446</td> \n",
              "</tr>\n",
              "<tr>\n",
              "  <th>Method:</th>             <td>css-mle</td>     <th>  S.D. of innovations</th>   <td>0.000</td>  \n",
              "</tr>\n",
              "<tr>\n",
              "  <th>Date:</th>          <td>Sun, 09 May 2021</td> <th>  AIC                </th> <td>-2580.892</td>\n",
              "</tr>\n",
              "<tr>\n",
              "  <th>Time:</th>              <td>05:26:27</td>     <th>  BIC                </th> <td>-2563.115</td>\n",
              "</tr>\n",
              "<tr>\n",
              "  <th>Sample:</th>           <td>02-01-1949</td>    <th>  HQIC               </th> <td>-2573.668</td>\n",
              "</tr>\n",
              "<tr>\n",
              "  <th></th>                 <td>- 12-01-1960</td>   <th>                     </th>     <td> </td>    \n",
              "</tr>\n",
              "</table>\n",
              "<table class=\"simpletable\">\n",
              "<tr>\n",
              "         <td></td>            <th>coef</th>     <th>std err</th>      <th>z</th>      <th>P>|z|</th>  <th>[0.025</th>    <th>0.975]</th>  \n",
              "</tr>\n",
              "<tr>\n",
              "  <th>const</th>           <td> 2.633e-06</td> <td>  1.1e-06</td> <td>    2.394</td> <td> 0.018</td> <td> 4.77e-07</td> <td> 4.79e-06</td>\n",
              "</tr>\n",
              "<tr>\n",
              "  <th>ma.L1.#CigSales</th> <td>    0.4010</td> <td>      nan</td> <td>      nan</td> <td>   nan</td> <td>      nan</td> <td>      nan</td>\n",
              "</tr>\n",
              "<tr>\n",
              "  <th>ma.L2.#CigSales</th> <td>   -0.1886</td> <td>      nan</td> <td>      nan</td> <td>   nan</td> <td>      nan</td> <td>      nan</td>\n",
              "</tr>\n",
              "<tr>\n",
              "  <th>ma.L3.#CigSales</th> <td>   -0.3054</td> <td>      nan</td> <td>      nan</td> <td>   nan</td> <td>      nan</td> <td>      nan</td>\n",
              "</tr>\n",
              "<tr>\n",
              "  <th>ma.L4.#CigSales</th> <td>   -0.4535</td> <td>      nan</td> <td>      nan</td> <td>   nan</td> <td>      nan</td> <td>      nan</td>\n",
              "</tr>\n",
              "</table>\n",
              "<table class=\"simpletable\">\n",
              "<caption>Roots</caption>\n",
              "<tr>\n",
              "    <td></td>   <th>            Real</th>  <th>         Imaginary</th> <th>         Modulus</th>  <th>        Frequency</th>\n",
              "</tr>\n",
              "<tr>\n",
              "  <th>MA.1</th> <td>           1.1384</td> <td>          -0.0000j</td> <td>           1.1384</td> <td>          -0.0000</td>\n",
              "</tr>\n",
              "<tr>\n",
              "  <th>MA.2</th> <td>          -1.1333</td> <td>          -0.0000j</td> <td>           1.1333</td> <td>          -0.5000</td>\n",
              "</tr>\n",
              "<tr>\n",
              "  <th>MA.3</th> <td>          -0.3393</td> <td>          -1.2626j</td> <td>           1.3074</td> <td>          -0.2918</td>\n",
              "</tr>\n",
              "<tr>\n",
              "  <th>MA.4</th> <td>          -0.3393</td> <td>          +1.2626j</td> <td>           1.3074</td> <td>           0.2918</td>\n",
              "</tr>\n",
              "</table>"
            ],
            "text/plain": [
              "<class 'statsmodels.iolib.summary.Summary'>\n",
              "\"\"\"\n",
              "                              ARMA Model Results                              \n",
              "==============================================================================\n",
              "Dep. Variable:              #CigSales   No. Observations:                  143\n",
              "Model:                     ARMA(0, 4)   Log Likelihood                1296.446\n",
              "Method:                       css-mle   S.D. of innovations              0.000\n",
              "Date:                Sun, 09 May 2021   AIC                          -2580.892\n",
              "Time:                        05:26:27   BIC                          -2563.115\n",
              "Sample:                    02-01-1949   HQIC                         -2573.668\n",
              "                         - 12-01-1960                                         \n",
              "===================================================================================\n",
              "                      coef    std err          z      P>|z|      [0.025      0.975]\n",
              "-----------------------------------------------------------------------------------\n",
              "const            2.633e-06    1.1e-06      2.394      0.018    4.77e-07    4.79e-06\n",
              "ma.L1.#CigSales     0.4010        nan        nan        nan         nan         nan\n",
              "ma.L2.#CigSales    -0.1886        nan        nan        nan         nan         nan\n",
              "ma.L3.#CigSales    -0.3054        nan        nan        nan         nan         nan\n",
              "ma.L4.#CigSales    -0.4535        nan        nan        nan         nan         nan\n",
              "                                    Roots                                    \n",
              "=============================================================================\n",
              "                  Real          Imaginary           Modulus         Frequency\n",
              "-----------------------------------------------------------------------------\n",
              "MA.1            1.1384           -0.0000j            1.1384           -0.0000\n",
              "MA.2           -1.1333           -0.0000j            1.1333           -0.5000\n",
              "MA.3           -0.3393           -1.2626j            1.3074           -0.2918\n",
              "MA.4           -0.3393           +1.2626j            1.3074            0.2918\n",
              "-----------------------------------------------------------------------------\n",
              "\"\"\""
            ]
          },
          "metadata": {
            "tags": []
          },
          "execution_count": 234
        }
      ]
    },
    {
      "cell_type": "markdown",
      "metadata": {
        "id": "YTx-tjdTF79b"
      },
      "source": [
        "### 3e. Visualize the results \n",
        "\n",
        "Visualize the original dataset plotted against our model. "
      ]
    },
    {
      "cell_type": "code",
      "metadata": {
        "colab": {
          "base_uri": "https://localhost:8080/",
          "height": 626
        },
        "id": "K8zTDK_1F79b",
        "outputId": "2e507089-ff04-4d0a-a82b-e1d409802a4d"
      },
      "source": [
        "fig, ax = plt.subplots(1, 1, figsize=(15,10))\n",
        "\n",
        "plt.plot(y_const_var_diff)\n",
        "plt.plot(model_fit.predict())\n",
        "plt.legend()"
      ],
      "execution_count": 235,
      "outputs": [
        {
          "output_type": "stream",
          "text": [
            "No handles with labels found to put in legend.\n"
          ],
          "name": "stderr"
        },
        {
          "output_type": "execute_result",
          "data": {
            "text/plain": [
              "<matplotlib.legend.Legend at 0x7f1765e0c4d0>"
            ]
          },
          "metadata": {
            "tags": []
          },
          "execution_count": 235
        },
        {
          "output_type": "display_data",
          "data": {
            "image/png": "[encoded data removed]",
            "text/plain": [
              "<Figure size 1080x720 with 1 Axes>"
            ]
          },
          "metadata": {
            "tags": [],
            "needs_background": "light"
          }
        }
      ]
    },
    {
      "cell_type": "markdown",
      "metadata": {
        "id": "2POy9r4nF79b"
      },
      "source": [
        "### 3f. Application: Forecasting\n",
        "\n",
        "We've done well: our model fits pretty closely to our existing data. Let's now use it to forecast what's likely to occur in future."
      ]
    },
    {
      "cell_type": "code",
      "metadata": {
        "scrolled": false,
        "colab": {
          "base_uri": "https://localhost:8080/",
          "height": 307
        },
        "id": "1yKWdH1kF79b",
        "outputId": "1c8a7c31-bd1c-419c-dd4f-ea821f0e7bba"
      },
      "source": [
        "# Declare a variable called forecast_period with the amount of months to forecast, and\n",
        "# create a range of future dates that is the length of the periods you've chosen to forecast\n",
        "\n",
        "forecast_period = 110 \n",
        "forecast_dates = pd.date_range(start=y_const_var_diff.index[-1], periods=forecast_period, freq='MS')\n",
        "\n",
        "# Convert that range into a dataframe that includes your predictions\n",
        "future_months = pd.DataFrame(data=pd.to_datetime(forecast_dates), \n",
        "                             columns=['Month'])\n",
        "future_months['Month'] = pd.to_datetime(future_months['Month'])\n",
        "future_months = future_months.set_index('Month')\n",
        "future_months['Prediction'] = forecast[0]\n",
        "\n",
        "# Plot your future predictions\n",
        "future_months.plot()"
      ],
      "execution_count": 237,
      "outputs": [
        {
          "output_type": "execute_result",
          "data": {
            "text/plain": [
              "<matplotlib.axes._subplots.AxesSubplot at 0x7f1765ebca10>"
            ]
          },
          "metadata": {
            "tags": []
          },
          "execution_count": 237
        },
        {
          "output_type": "display_data",
          "data": {
            "image/png": "[encoded data removed]",
            "text/plain": [
              "<Figure size 432x288 with 1 Axes>"
            ]
          },
          "metadata": {
            "tags": [],
            "needs_background": "light"
          }
        }
      ]
    },
    {
      "cell_type": "code",
      "metadata": {
        "colab": {
          "base_uri": "https://localhost:8080/",
          "height": 450
        },
        "id": "5mCYNDiYluUQ",
        "outputId": "3e335148-ff4a-4b42-8058-7e4b85fe361a"
      },
      "source": [
        "future_months"
      ],
      "execution_count": 238,
      "outputs": [
        {
          "output_type": "execute_result",
          "data": {
            "text/html": [
              "<div>\n",
              "<style scoped>\n",
              "    .dataframe tbody tr th:only-of-type {\n",
              "        vertical-align: middle;\n",
              "    }\n",
              "\n",
              "    .dataframe tbody tr th {\n",
              "        vertical-align: top;\n",
              "    }\n",
              "\n",
              "    .dataframe thead th {\n",
              "        text-align: right;\n",
              "    }\n",
              "</style>\n",
              "<table border=\"1\" class=\"dataframe\">\n",
              "  <thead>\n",
              "    <tr style=\"text-align: right;\">\n",
              "      <th></th>\n",
              "      <th>Prediction</th>\n",
              "    </tr>\n",
              "    <tr>\n",
              "      <th>Month</th>\n",
              "      <th></th>\n",
              "    </tr>\n",
              "  </thead>\n",
              "  <tbody>\n",
              "    <tr>\n",
              "      <th>1960-12-01</th>\n",
              "      <td>0.000054</td>\n",
              "    </tr>\n",
              "    <tr>\n",
              "      <th>1961-01-01</th>\n",
              "      <td>0.000005</td>\n",
              "    </tr>\n",
              "    <tr>\n",
              "      <th>1961-02-01</th>\n",
              "      <td>0.000022</td>\n",
              "    </tr>\n",
              "    <tr>\n",
              "      <th>1961-03-01</th>\n",
              "      <td>-0.000016</td>\n",
              "    </tr>\n",
              "    <tr>\n",
              "      <th>1961-04-01</th>\n",
              "      <td>0.000003</td>\n",
              "    </tr>\n",
              "    <tr>\n",
              "      <th>...</th>\n",
              "      <td>...</td>\n",
              "    </tr>\n",
              "    <tr>\n",
              "      <th>1969-09-01</th>\n",
              "      <td>0.000003</td>\n",
              "    </tr>\n",
              "    <tr>\n",
              "      <th>1969-10-01</th>\n",
              "      <td>0.000003</td>\n",
              "    </tr>\n",
              "    <tr>\n",
              "      <th>1969-11-01</th>\n",
              "      <td>0.000003</td>\n",
              "    </tr>\n",
              "    <tr>\n",
              "      <th>1969-12-01</th>\n",
              "      <td>0.000003</td>\n",
              "    </tr>\n",
              "    <tr>\n",
              "      <th>1970-01-01</th>\n",
              "      <td>0.000003</td>\n",
              "    </tr>\n",
              "  </tbody>\n",
              "</table>\n",
              "<p>110 rows × 1 columns</p>\n",
              "</div>"
            ],
            "text/plain": [
              "            Prediction\n",
              "Month                 \n",
              "1960-12-01    0.000054\n",
              "1961-01-01    0.000005\n",
              "1961-02-01    0.000022\n",
              "1961-03-01   -0.000016\n",
              "1961-04-01    0.000003\n",
              "...                ...\n",
              "1969-09-01    0.000003\n",
              "1969-10-01    0.000003\n",
              "1969-11-01    0.000003\n",
              "1969-12-01    0.000003\n",
              "1970-01-01    0.000003\n",
              "\n",
              "[110 rows x 1 columns]"
            ]
          },
          "metadata": {
            "tags": []
          },
          "execution_count": 238
        }
      ]
    },
    {
      "cell_type": "markdown",
      "metadata": {
        "id": "wghoYOovF79b"
      },
      "source": [
        "## 4. Evaluating and Concluding\n",
        "\n",
        "Our model captures the centre of a line that's increasing at a remarkable rate. Cowboy Cigarettes sell more cigarettes in the summer, perhaps due to the good weather, disposable income and time off that people enjoy, and the least in the winter, when people might be spending less and enjoying less free time outdoors. \n",
        "\n",
        "Remarkably, our ARIMA model made predictions using just one variable. We can only speculate, however, on the causes of the behaviour predicted by our model. We should also take heed that spikes in data, due to sudden unusual circumstances like wars, are not handled well by ARIMA; and the outbreak of the Vietnam War in the 1960s would likely cause our model some distress.  \n",
        "\n",
        "We could suggest to our employers that, if they are interested in discovering the causes of the cigarette sales trajectory, they execute a regression analysis in addition to the time series one. "
      ]
    }
  ]
}